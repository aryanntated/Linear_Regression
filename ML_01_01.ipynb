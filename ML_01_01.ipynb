{
  "nbformat": 4,
  "nbformat_minor": 0,
  "metadata": {
    "colab": {
      "provenance": [],
      "include_colab_link": true
    },
    "kernelspec": {
      "name": "python3",
      "display_name": "Python 3"
    },
    "language_info": {
      "name": "python"
    }
  },
  "cells": [
    {
      "cell_type": "markdown",
      "metadata": {
        "id": "view-in-github",
        "colab_type": "text"
      },
      "source": [
        "<a href=\"https://colab.research.google.com/github/aryanntated/Linear_Regression/blob/main/ML_01_01.ipynb\" target=\"_parent\"><img src=\"https://colab.research.google.com/assets/colab-badge.svg\" alt=\"Open In Colab\"/></a>"
      ]
    },
    {
      "cell_type": "code",
      "execution_count": null,
      "metadata": {
        "id": "vLVkOg3bQEbf"
      },
      "outputs": [],
      "source": [
        "import matplotlib.pyplot as plt\n",
        "import pandas as pd\n",
        "import numpy as np\n",
        "import seaborn as sns\n",
        "%matplotlib inline"
      ]
    },
    {
      "cell_type": "markdown",
      "source": [
        "Load Dataset"
      ],
      "metadata": {
        "id": "eb-7-ttgbkQE"
      }
    },
    {
      "cell_type": "code",
      "source": [
        "df=pd.read_csv('/content/foodtruck.txt')\n",
        "df"
      ],
      "metadata": {
        "colab": {
          "base_uri": "https://localhost:8080/",
          "height": 424
        },
        "id": "gtKxRyqlSvv6",
        "outputId": "23491c8d-a51f-4097-fda6-e476cd9e8a98"
      },
      "execution_count": null,
      "outputs": [
        {
          "output_type": "execute_result",
          "data": {
            "text/plain": [
              "    Population    Profit\n",
              "0       6.1101  17.59200\n",
              "1       5.5277   9.13020\n",
              "2       8.5186  13.66200\n",
              "3       7.0032  11.85400\n",
              "4       5.8598   6.82330\n",
              "..         ...       ...\n",
              "92      5.8707   7.20290\n",
              "93      5.3054   1.98690\n",
              "94      8.2934   0.14454\n",
              "95     13.3940   9.05510\n",
              "96      5.4369   0.61705\n",
              "\n",
              "[97 rows x 2 columns]"
            ],
            "text/html": [
              "\n",
              "  <div id=\"df-a050f6a7-50ba-4e28-b68e-47fe95921230\">\n",
              "    <div class=\"colab-df-container\">\n",
              "      <div>\n",
              "<style scoped>\n",
              "    .dataframe tbody tr th:only-of-type {\n",
              "        vertical-align: middle;\n",
              "    }\n",
              "\n",
              "    .dataframe tbody tr th {\n",
              "        vertical-align: top;\n",
              "    }\n",
              "\n",
              "    .dataframe thead th {\n",
              "        text-align: right;\n",
              "    }\n",
              "</style>\n",
              "<table border=\"1\" class=\"dataframe\">\n",
              "  <thead>\n",
              "    <tr style=\"text-align: right;\">\n",
              "      <th></th>\n",
              "      <th>Population</th>\n",
              "      <th>Profit</th>\n",
              "    </tr>\n",
              "  </thead>\n",
              "  <tbody>\n",
              "    <tr>\n",
              "      <th>0</th>\n",
              "      <td>6.1101</td>\n",
              "      <td>17.59200</td>\n",
              "    </tr>\n",
              "    <tr>\n",
              "      <th>1</th>\n",
              "      <td>5.5277</td>\n",
              "      <td>9.13020</td>\n",
              "    </tr>\n",
              "    <tr>\n",
              "      <th>2</th>\n",
              "      <td>8.5186</td>\n",
              "      <td>13.66200</td>\n",
              "    </tr>\n",
              "    <tr>\n",
              "      <th>3</th>\n",
              "      <td>7.0032</td>\n",
              "      <td>11.85400</td>\n",
              "    </tr>\n",
              "    <tr>\n",
              "      <th>4</th>\n",
              "      <td>5.8598</td>\n",
              "      <td>6.82330</td>\n",
              "    </tr>\n",
              "    <tr>\n",
              "      <th>...</th>\n",
              "      <td>...</td>\n",
              "      <td>...</td>\n",
              "    </tr>\n",
              "    <tr>\n",
              "      <th>92</th>\n",
              "      <td>5.8707</td>\n",
              "      <td>7.20290</td>\n",
              "    </tr>\n",
              "    <tr>\n",
              "      <th>93</th>\n",
              "      <td>5.3054</td>\n",
              "      <td>1.98690</td>\n",
              "    </tr>\n",
              "    <tr>\n",
              "      <th>94</th>\n",
              "      <td>8.2934</td>\n",
              "      <td>0.14454</td>\n",
              "    </tr>\n",
              "    <tr>\n",
              "      <th>95</th>\n",
              "      <td>13.3940</td>\n",
              "      <td>9.05510</td>\n",
              "    </tr>\n",
              "    <tr>\n",
              "      <th>96</th>\n",
              "      <td>5.4369</td>\n",
              "      <td>0.61705</td>\n",
              "    </tr>\n",
              "  </tbody>\n",
              "</table>\n",
              "<p>97 rows × 2 columns</p>\n",
              "</div>\n",
              "      <button class=\"colab-df-convert\" onclick=\"convertToInteractive('df-a050f6a7-50ba-4e28-b68e-47fe95921230')\"\n",
              "              title=\"Convert this dataframe to an interactive table.\"\n",
              "              style=\"display:none;\">\n",
              "        \n",
              "  <svg xmlns=\"http://www.w3.org/2000/svg\" height=\"24px\"viewBox=\"0 0 24 24\"\n",
              "       width=\"24px\">\n",
              "    <path d=\"M0 0h24v24H0V0z\" fill=\"none\"/>\n",
              "    <path d=\"M18.56 5.44l.94 2.06.94-2.06 2.06-.94-2.06-.94-.94-2.06-.94 2.06-2.06.94zm-11 1L8.5 8.5l.94-2.06 2.06-.94-2.06-.94L8.5 2.5l-.94 2.06-2.06.94zm10 10l.94 2.06.94-2.06 2.06-.94-2.06-.94-.94-2.06-.94 2.06-2.06.94z\"/><path d=\"M17.41 7.96l-1.37-1.37c-.4-.4-.92-.59-1.43-.59-.52 0-1.04.2-1.43.59L10.3 9.45l-7.72 7.72c-.78.78-.78 2.05 0 2.83L4 21.41c.39.39.9.59 1.41.59.51 0 1.02-.2 1.41-.59l7.78-7.78 2.81-2.81c.8-.78.8-2.07 0-2.86zM5.41 20L4 18.59l7.72-7.72 1.47 1.35L5.41 20z\"/>\n",
              "  </svg>\n",
              "      </button>\n",
              "      \n",
              "  <style>\n",
              "    .colab-df-container {\n",
              "      display:flex;\n",
              "      flex-wrap:wrap;\n",
              "      gap: 12px;\n",
              "    }\n",
              "\n",
              "    .colab-df-convert {\n",
              "      background-color: #E8F0FE;\n",
              "      border: none;\n",
              "      border-radius: 50%;\n",
              "      cursor: pointer;\n",
              "      display: none;\n",
              "      fill: #1967D2;\n",
              "      height: 32px;\n",
              "      padding: 0 0 0 0;\n",
              "      width: 32px;\n",
              "    }\n",
              "\n",
              "    .colab-df-convert:hover {\n",
              "      background-color: #E2EBFA;\n",
              "      box-shadow: 0px 1px 2px rgba(60, 64, 67, 0.3), 0px 1px 3px 1px rgba(60, 64, 67, 0.15);\n",
              "      fill: #174EA6;\n",
              "    }\n",
              "\n",
              "    [theme=dark] .colab-df-convert {\n",
              "      background-color: #3B4455;\n",
              "      fill: #D2E3FC;\n",
              "    }\n",
              "\n",
              "    [theme=dark] .colab-df-convert:hover {\n",
              "      background-color: #434B5C;\n",
              "      box-shadow: 0px 1px 3px 1px rgba(0, 0, 0, 0.15);\n",
              "      filter: drop-shadow(0px 1px 2px rgba(0, 0, 0, 0.3));\n",
              "      fill: #FFFFFF;\n",
              "    }\n",
              "  </style>\n",
              "\n",
              "      <script>\n",
              "        const buttonEl =\n",
              "          document.querySelector('#df-a050f6a7-50ba-4e28-b68e-47fe95921230 button.colab-df-convert');\n",
              "        buttonEl.style.display =\n",
              "          google.colab.kernel.accessAllowed ? 'block' : 'none';\n",
              "\n",
              "        async function convertToInteractive(key) {\n",
              "          const element = document.querySelector('#df-a050f6a7-50ba-4e28-b68e-47fe95921230');\n",
              "          const dataTable =\n",
              "            await google.colab.kernel.invokeFunction('convertToInteractive',\n",
              "                                                     [key], {});\n",
              "          if (!dataTable) return;\n",
              "\n",
              "          const docLinkHtml = 'Like what you see? Visit the ' +\n",
              "            '<a target=\"_blank\" href=https://colab.research.google.com/notebooks/data_table.ipynb>data table notebook</a>'\n",
              "            + ' to learn more about interactive tables.';\n",
              "          element.innerHTML = '';\n",
              "          dataTable['output_type'] = 'display_data';\n",
              "          await google.colab.output.renderOutput(dataTable, element);\n",
              "          const docLink = document.createElement('div');\n",
              "          docLink.innerHTML = docLinkHtml;\n",
              "          element.appendChild(docLink);\n",
              "        }\n",
              "      </script>\n",
              "    </div>\n",
              "  </div>\n",
              "  "
            ]
          },
          "metadata": {},
          "execution_count": 5
        }
      ]
    },
    {
      "cell_type": "markdown",
      "source": [
        "Visualise Data"
      ],
      "metadata": {
        "id": "63XwakVCcFXX"
      }
    },
    {
      "cell_type": "code",
      "source": [
        "ax = sns.scatterplot(x = \"Population\", y = \"Profit\", data = df)\n",
        "ax.set_title(\"Population Vs Profit\")"
      ],
      "metadata": {
        "id": "uvv6v-G9b6Td",
        "colab": {
          "base_uri": "https://localhost:8080/",
          "height": 312
        },
        "outputId": "641a4688-f36b-46d1-a21b-11c0a774e057"
      },
      "execution_count": null,
      "outputs": [
        {
          "output_type": "execute_result",
          "data": {
            "text/plain": [
              "Text(0.5, 1.0, 'Population Vs Profit')"
            ]
          },
          "metadata": {},
          "execution_count": 6
        },
        {
          "output_type": "display_data",
          "data": {
            "text/plain": [
              "<Figure size 432x288 with 1 Axes>"
            ],
            "image/png": "[encoded data removed]"
          },
          "metadata": {
            "needs_background": "light"
          }
        }
      ]
    },
    {
      "cell_type": "code",
      "source": [
        "sns.heatmap(df.corr(),annot=True)"
      ],
      "metadata": {
        "id": "H-4FvKwMS4zg",
        "colab": {
          "base_uri": "https://localhost:8080/",
          "height": 286
        },
        "outputId": "fe712976-1d17-4d8e-99c1-5551e0bfb4a4"
      },
      "execution_count": null,
      "outputs": [
        {
          "output_type": "execute_result",
          "data": {
            "text/plain": [
              "<AxesSubplot:>"
            ]
          },
          "metadata": {},
          "execution_count": 7
        },
        {
          "output_type": "display_data",
          "data": {
            "text/plain": [
              "<Figure size 432x288 with 2 Axes>"
            ],
            "image/png": "[encoded data removed]"
          },
          "metadata": {
            "needs_background": "light"
          }
        }
      ]
    },
    {
      "cell_type": "markdown",
      "source": [
        "Split Dataset into training and testing dataset"
      ],
      "metadata": {
        "id": "-UCL2513cJyL"
      }
    },
    {
      "cell_type": "code",
      "source": [
        "from sklearn.model_selection import train_test_split"
      ],
      "metadata": {
        "id": "H51nQEgaTFd6"
      },
      "execution_count": null,
      "outputs": []
    },
    {
      "cell_type": "code",
      "source": [
        "X=df.drop(\"Profit\",axis=1)\n",
        "y=df[\"Profit\"]"
      ],
      "metadata": {
        "id": "pW2hx_hJTGTe"
      },
      "execution_count": null,
      "outputs": []
    },
    {
      "cell_type": "code",
      "source": [
        "X_train, X_test, y_train, y_test = train_test_split(X, y, test_size=0.40, random_state=101)"
      ],
      "metadata": {
        "id": "_RrfszcsThtW"
      },
      "execution_count": null,
      "outputs": []
    },
    {
      "cell_type": "code",
      "source": [
        "print(\"Number of samples in whole dataset:\",len(df))\n",
        "print(\"Number of samples in training dataset:\",len(X_train))\n",
        "print(\"Shape of X_train:\",X_train.shape)\n",
        "print(\"Number of samples in testing dataset:\",len(X_test))\n",
        "print(\"Shape of X_test:\",X_test.shape)"
      ],
      "metadata": {
        "id": "GgHP87SkTkBX",
        "colab": {
          "base_uri": "https://localhost:8080/"
        },
        "outputId": "a6edebe0-28e2-4166-c6a2-95403431982a"
      },
      "execution_count": null,
      "outputs": [
        {
          "output_type": "stream",
          "name": "stdout",
          "text": [
            "Number of samples in whole dataset: 97\n",
            "Number of samples in training dataset: 58\n",
            "Shape of X_train: (58, 1)\n",
            "Number of samples in testing dataset: 39\n",
            "Shape of X_test: (39, 1)\n"
          ]
        }
      ]
    },
    {
      "cell_type": "markdown",
      "source": [
        "Import Linear Regression Model"
      ],
      "metadata": {
        "id": "SIumpf4FcV8o"
      }
    },
    {
      "cell_type": "code",
      "source": [
        "from sklearn.linear_model import LinearRegression\n",
        "reg=LinearRegression()\n",
        "reg.fit(X_train,y_train)"
      ],
      "metadata": {
        "id": "z0cnGOIQToj7",
        "colab": {
          "base_uri": "https://localhost:8080/"
        },
        "outputId": "f76e3c6f-f85a-4465-c1bd-df939762124b"
      },
      "execution_count": null,
      "outputs": [
        {
          "output_type": "execute_result",
          "data": {
            "text/plain": [
              "LinearRegression()"
            ]
          },
          "metadata": {},
          "execution_count": 12
        }
      ]
    },
    {
      "cell_type": "code",
      "source": [
        "y_pred=reg.predict(X_test)\n",
        "y_pred"
      ],
      "metadata": {
        "id": "r2GJ8_juTue8",
        "colab": {
          "base_uri": "https://localhost:8080/"
        },
        "outputId": "a68373b4-3a8e-43af-d4db-2c5c48dfee40"
      },
      "execution_count": null,
      "outputs": [
        {
          "output_type": "execute_result",
          "data": {
            "text/plain": [
              "array([ 5.17502301,  5.0324138 ,  7.09647673,  3.78190997,  8.18129725,\n",
              "        3.11591257,  4.74179266,  9.78635437,  4.36394015,  6.95015315,\n",
              "        2.96508672, 19.432455  ,  3.14709074,  4.49979597,  2.27533988,\n",
              "        2.83902333,  2.36628561,  4.60098435,  2.92749282,  3.74521652,\n",
              "        6.20547869,  6.08144131,  7.61254875, 17.94108005,  5.95200122,\n",
              "        7.02669164,  5.10422491,  2.96621229,  3.73767523,  3.77459379,\n",
              "        4.03403675, 11.05599282,  2.79670205,  2.80716981,  8.95005883,\n",
              "        3.58347268,  8.13852574,  2.52915501,  5.54679746])"
            ]
          },
          "metadata": {},
          "execution_count": 13
        }
      ]
    },
    {
      "cell_type": "markdown",
      "source": [
        "Visualise the model"
      ],
      "metadata": {
        "id": "AHVfLYgIcdmF"
      }
    },
    {
      "cell_type": "code",
      "source": [
        "sns.scatterplot(x = \"Population\", y = \"Profit\", data = df)\n",
        "plt.plot(X_test,y_pred,color=\"red\")\n",
        "\n",
        "plt.xlabel(\"Population\")\n",
        "plt.ylabel(\"Profit\")\n",
        "plt.title(\"Linear regression Fit\");"
      ],
      "metadata": {
        "id": "Mla27VqSUdqv",
        "colab": {
          "base_uri": "https://localhost:8080/",
          "height": 295
        },
        "outputId": "18e29bf7-306e-47f8-9333-30cac69e76ae"
      },
      "execution_count": null,
      "outputs": [
        {
          "output_type": "display_data",
          "data": {
            "text/plain": [
              "<Figure size 432x288 with 1 Axes>"
            ],
            "image/png": "[encoded data removed]"
          },
          "metadata": {
            "needs_background": "light"
          }
        }
      ]
    },
    {
      "cell_type": "markdown",
      "source": [
        "Check Overfitting or Underfitting"
      ],
      "metadata": {
        "id": "k_S05KIdctGT"
      }
    },
    {
      "cell_type": "code",
      "source": [
        "import sklearn.metrics as skm"
      ],
      "metadata": {
        "id": "SCYOXObWTy7M"
      },
      "execution_count": null,
      "outputs": []
    },
    {
      "cell_type": "code",
      "source": [
        "mse=skm.mean_squared_error(y_test, y_pred)\n",
        "mse"
      ],
      "metadata": {
        "id": "CzSxCkOhT4t1",
        "colab": {
          "base_uri": "https://localhost:8080/"
        },
        "outputId": "c3677793-4919-4798-c741-73a91f8beb3f"
      },
      "execution_count": null,
      "outputs": [
        {
          "output_type": "execute_result",
          "data": {
            "text/plain": [
              "9.60971593259975"
            ]
          },
          "metadata": {},
          "execution_count": 16
        }
      ]
    },
    {
      "cell_type": "code",
      "source": [
        "reg.score(X_train,y_train)"
      ],
      "metadata": {
        "id": "RdiFmKchUCQZ",
        "colab": {
          "base_uri": "https://localhost:8080/"
        },
        "outputId": "db101bf5-e838-40d9-d9ae-82b58f33c6c3"
      },
      "execution_count": null,
      "outputs": [
        {
          "output_type": "execute_result",
          "data": {
            "text/plain": [
              "0.7193323954664781"
            ]
          },
          "metadata": {},
          "execution_count": 17
        }
      ]
    },
    {
      "cell_type": "code",
      "source": [
        "reg.score(X_test,y_test)"
      ],
      "metadata": {
        "id": "tFxOS_jFUDXW",
        "colab": {
          "base_uri": "https://localhost:8080/"
        },
        "outputId": "51eecc04-b035-4875-c4c6-92f5e7a9b9eb"
      },
      "execution_count": null,
      "outputs": [
        {
          "output_type": "execute_result",
          "data": {
            "text/plain": [
              "0.6688557540741457"
            ]
          },
          "metadata": {},
          "execution_count": 18
        }
      ]
    },
    {
      "cell_type": "markdown",
      "source": [
        "Apply Regulisation using Lasso or Ridge Regression"
      ],
      "metadata": {
        "id": "VOoznqqcc1Ts"
      }
    },
    {
      "cell_type": "code",
      "source": [
        "from sklearn import linear_model\n",
        "lasso_reg=linear_model.Lasso(alpha=0.1, max_iter=1000,tol=0.1)\n",
        "lasso_reg.fit(X_test,y_test)"
      ],
      "metadata": {
        "id": "lsIqPNAIUG0b",
        "colab": {
          "base_uri": "https://localhost:8080/"
        },
        "outputId": "808f068f-1c37-4e2c-f2c6-412f50b8d9d5"
      },
      "execution_count": null,
      "outputs": [
        {
          "output_type": "execute_result",
          "data": {
            "text/plain": [
              "Lasso(alpha=0.1, tol=0.1)"
            ]
          },
          "metadata": {},
          "execution_count": 19
        }
      ]
    },
    {
      "cell_type": "code",
      "source": [
        "lasso_reg.score(X_test,y_test)"
      ],
      "metadata": {
        "id": "_hdzxeXMaY2_",
        "colab": {
          "base_uri": "https://localhost:8080/"
        },
        "outputId": "21309be5-dc34-4947-b26a-cbd5b52ccce8"
      },
      "execution_count": null,
      "outputs": [
        {
          "output_type": "execute_result",
          "data": {
            "text/plain": [
              "0.6888014595673204"
            ]
          },
          "metadata": {},
          "execution_count": 20
        }
      ]
    },
    {
      "cell_type": "code",
      "source": [
        "lasso_reg.score(X_train,y_train)"
      ],
      "metadata": {
        "id": "iGY6zCQ-aemw",
        "colab": {
          "base_uri": "https://localhost:8080/"
        },
        "outputId": "459cebc0-0245-4a59-9825-4fc4fd8b83ac"
      },
      "execution_count": null,
      "outputs": [
        {
          "output_type": "execute_result",
          "data": {
            "text/plain": [
              "0.6914310168751615"
            ]
          },
          "metadata": {},
          "execution_count": 21
        }
      ]
    },
    {
      "cell_type": "code",
      "source": [
        "from sklearn.linear_model import Ridge\n",
        "ridge_reg=Ridge(alpha=60, max_iter=1000,tol=0.1)\n"
      ],
      "metadata": {
        "id": "BROunliUaqPb"
      },
      "execution_count": null,
      "outputs": []
    },
    {
      "cell_type": "code",
      "source": [
        "ridge_reg.fit(X_train,y_train)"
      ],
      "metadata": {
        "id": "Druw5IJaa07p",
        "colab": {
          "base_uri": "https://localhost:8080/"
        },
        "outputId": "47fd76dd-6152-434e-ec09-f29bcf037030"
      },
      "execution_count": null,
      "outputs": [
        {
          "output_type": "execute_result",
          "data": {
            "text/plain": [
              "Ridge(alpha=60, max_iter=1000, tol=0.1)"
            ]
          },
          "metadata": {},
          "execution_count": 23
        }
      ]
    },
    {
      "cell_type": "code",
      "source": [
        "ridge_reg.score(X_train,y_train)"
      ],
      "metadata": {
        "id": "ZjhfjmSBa6up",
        "colab": {
          "base_uri": "https://localhost:8080/"
        },
        "outputId": "97080c13-e993-44b4-ed27-364589b0a688"
      },
      "execution_count": null,
      "outputs": [
        {
          "output_type": "execute_result",
          "data": {
            "text/plain": [
              "0.7170805587688678"
            ]
          },
          "metadata": {},
          "execution_count": 24
        }
      ]
    },
    {
      "cell_type": "code",
      "source": [
        "ridge_reg.score(X_test,y_test)"
      ],
      "metadata": {
        "id": "Ynb9CyVLa-zQ",
        "colab": {
          "base_uri": "https://localhost:8080/"
        },
        "outputId": "85ac0915-dfc9-4fb1-f1f3-8682544d13d6"
      },
      "execution_count": null,
      "outputs": [
        {
          "output_type": "execute_result",
          "data": {
            "text/plain": [
              "0.6565908193613013"
            ]
          },
          "metadata": {},
          "execution_count": 25
        }
      ]
    },
    {
      "cell_type": "markdown",
      "source": [
        "Regularisation done by Lasso Regression is much effective than Ridge regression"
      ],
      "metadata": {
        "id": "4GcAh8iRbIKu"
      }
    }
  ]
}